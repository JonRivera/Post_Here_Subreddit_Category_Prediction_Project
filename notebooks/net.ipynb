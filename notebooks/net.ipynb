{
 "cells": [
  {
   "cell_type": "markdown",
   "metadata": {},
   "source": [
    "# Imports"
   ]
  },
  {
   "cell_type": "markdown",
   "metadata": {},
   "source": [
    "# USE TENSORBOARD PLEASE CHRIST I CAN\"T TELL ALL THE TRIALS RESULTS"
   ]
  },
  {
   "cell_type": "code",
   "execution_count": 1,
   "metadata": {},
   "outputs": [
    {
     "name": "stderr",
     "output_type": "stream",
     "text": [
      "/home/johnrivera/.virtualenvs/ds_reddit_build-L6udXIR8/lib/python3.7/site-packages/pandas/compat/__init__.py:120: UserWarning: Could not import the lzma module. Your installed Python is incomplete. Attempting to use lzma compression will result in a RuntimeError.\n",
      "  warnings.warn(msg)\n"
     ]
    }
   ],
   "source": [
    "import numpy as np\n",
    "import pandas as pd\n",
    "\n",
    "from sklearn.model_selection import train_test_split\n",
    "from sklearn.feature_extraction.text import TfidfVectorizer\n",
    "from sklearn.preprocessing import LabelEncoder\n",
    "\n",
    "from tensorflow.keras import Sequential\n",
    "from tensorflow.keras.layers import Dense, Dropout\n",
    "from tensorflow.keras.regularizers import l2\n",
    "\n",
    "import pickle\n",
    "import psycopg2"
   ]
  },
  {
   "cell_type": "markdown",
   "metadata": {},
   "source": [
    "# Read in data"
   ]
  },
  {
   "cell_type": "code",
   "execution_count": 2,
   "metadata": {},
   "outputs": [],
   "source": [
    "with open(\"../database/secrets\", \"r\") as file:\n",
    "    secrets = [i.strip('\\n') for i in file.readlines()]\n",
    "\n",
    "\n",
    "def conn_curs():\n",
    "    \"\"\"\n",
    "    makes a connection to the database dont worry these are dummy keys\n",
    "    \"\"\"\n",
    "\n",
    "    connection = psycopg2.connect(dbname=secrets[4], user=secrets[4],\n",
    "                                  password=secrets[5], host=secrets[6])\n",
    "    cursor = connection.cursor()\n",
    "    return connection, cursor"
   ]
  },
  {
   "cell_type": "code",
   "execution_count": 3,
   "metadata": {},
   "outputs": [],
   "source": [
    "conn, curs = conn_curs()\n",
    "df = pd.read_sql(\"SELECT * FROM posts\", conn)"
   ]
  },
  {
   "cell_type": "markdown",
   "metadata": {},
   "source": [
    "# Inspect"
   ]
  },
  {
   "cell_type": "code",
   "execution_count": 4,
   "metadata": {},
   "outputs": [],
   "source": [
    "df.drop('id', axis=1, inplace=True)"
   ]
  },
  {
   "cell_type": "code",
   "execution_count": 5,
   "metadata": {},
   "outputs": [
    {
     "data": {
      "text/plain": [
       "(23951, 2)"
      ]
     },
     "execution_count": 5,
     "metadata": {},
     "output_type": "execute_result"
    }
   ],
   "source": [
    "df.shape"
   ]
  },
  {
   "cell_type": "code",
   "execution_count": 6,
   "metadata": {},
   "outputs": [
    {
     "data": {
      "text/html": [
       "<div>\n",
       "<style scoped>\n",
       "    .dataframe tbody tr th:only-of-type {\n",
       "        vertical-align: middle;\n",
       "    }\n",
       "\n",
       "    .dataframe tbody tr th {\n",
       "        vertical-align: top;\n",
       "    }\n",
       "\n",
       "    .dataframe thead th {\n",
       "        text-align: right;\n",
       "    }\n",
       "</style>\n",
       "<table border=\"1\" class=\"dataframe\">\n",
       "  <thead>\n",
       "    <tr style=\"text-align: right;\">\n",
       "      <th></th>\n",
       "      <th>text</th>\n",
       "      <th>subreddit</th>\n",
       "    </tr>\n",
       "  </thead>\n",
       "  <tbody>\n",
       "    <tr>\n",
       "      <th>0</th>\n",
       "      <td>Thousand Year Blood War Arc Anime Adaptation M...</td>\n",
       "      <td>bleach</td>\n",
       "    </tr>\n",
       "    <tr>\n",
       "      <th>1</th>\n",
       "      <td>Burn The Witch - Chapter 4 Discussion Thread #...</td>\n",
       "      <td>bleach</td>\n",
       "    </tr>\n",
       "    <tr>\n",
       "      <th>2</th>\n",
       "      <td>Let the journey begin.</td>\n",
       "      <td>bleach</td>\n",
       "    </tr>\n",
       "    <tr>\n",
       "      <th>3</th>\n",
       "      <td>Since Ichigos an English Literature major, thi...</td>\n",
       "      <td>bleach</td>\n",
       "    </tr>\n",
       "    <tr>\n",
       "      <th>4</th>\n",
       "      <td>I just made these Ulquiorra customs for a clie...</td>\n",
       "      <td>bleach</td>\n",
       "    </tr>\n",
       "  </tbody>\n",
       "</table>\n",
       "</div>"
      ],
      "text/plain": [
       "                                                text subreddit\n",
       "0  Thousand Year Blood War Arc Anime Adaptation M...    bleach\n",
       "1  Burn The Witch - Chapter 4 Discussion Thread #...    bleach\n",
       "2                            Let the journey begin.     bleach\n",
       "3  Since Ichigos an English Literature major, thi...    bleach\n",
       "4  I just made these Ulquiorra customs for a clie...    bleach"
      ]
     },
     "execution_count": 6,
     "metadata": {},
     "output_type": "execute_result"
    }
   ],
   "source": [
    "df.head()"
   ]
  },
  {
   "cell_type": "markdown",
   "metadata": {},
   "source": [
    "# Vectorize"
   ]
  },
  {
   "cell_type": "code",
   "execution_count": 7,
   "metadata": {},
   "outputs": [
    {
     "data": {
      "text/plain": [
       "LabelEncoder()"
      ]
     },
     "execution_count": 7,
     "metadata": {},
     "output_type": "execute_result"
    }
   ],
   "source": [
    "le = LabelEncoder()\n",
    "le.fit(df.subreddit.unique())"
   ]
  },
  {
   "cell_type": "code",
   "execution_count": 8,
   "metadata": {},
   "outputs": [
    {
     "data": {
      "text/plain": [
       "array(['Animesuggest', 'AusLegal', 'BackYardChickens', 'BeardedDragons',\n",
       "       'Bedbugs', 'Beekeeping', 'Berserk', 'BokuNoHeroAcademia',\n",
       "       'CaptainTsubasaDT', 'CasualConversation', 'DDLC',\n",
       "       'DecidingToBeBetter', 'Dragonballsuper', 'GetMotivated',\n",
       "       'GiftIdeas', 'Gundam', 'Gunpla', 'INeedAName', 'IWantOut',\n",
       "       'ImmigrationCanada', 'KissAnime', 'LegalAdviceUK', 'LifeProTips',\n",
       "       'MLPLounge', 'NameThatSong', 'NoStupidQuestions', 'Petloss',\n",
       "       'Pets', 'RBI', 'ShingekiNoKyojin', 'TooAfraidToAsk',\n",
       "       'WouldYouRather', 'anime', 'answers', 'araragi', 'ask', 'asklaw',\n",
       "       'ballpython', 'bettafish', 'bleach', 'cats', 'changemyview',\n",
       "       'christmas', 'dbz', 'deathnote', 'declutter', 'dogs', 'ferrets',\n",
       "       'findapath', 'getdisciplined', 'getting_over_it', 'guineapigs',\n",
       "       'hamsters', 'help', 'ifyoulikeblank', 'immigration', 'legal',\n",
       "       'legaladvice', 'legaladviceofftopic', 'leopardgeckos',\n",
       "       'makemychoice', 'manga', 'needadvice', 'nosurf', 'parrots',\n",
       "       'pestcontrol', 'productivity', 'resumes', 'selfhelp',\n",
       "       'selfimprovement', 'shrimptank', 'snakes', 'tarantulas',\n",
       "       'translator', 'ukvisa', 'whatisthisthing', 'whatsthatbook',\n",
       "       'whatstheword', 'whatsthisbug', 'whatsthisplant', 'whatsthisworth'],\n",
       "      dtype=object)"
      ]
     },
     "execution_count": 8,
     "metadata": {},
     "output_type": "execute_result"
    }
   ],
   "source": [
    "le.classes_"
   ]
  },
  {
   "cell_type": "code",
   "execution_count": 9,
   "metadata": {},
   "outputs": [],
   "source": [
    "X_train, X_test, y_train, y_test = train_test_split(df.text, le.transform(df.subreddit), test_size=0.33, random_state=42)"
   ]
  },
  {
   "cell_type": "code",
   "execution_count": 10,
   "metadata": {},
   "outputs": [],
   "source": [
    "vect = TfidfVectorizer(max_df=.95, min_df=80)"
   ]
  },
  {
   "cell_type": "code",
   "execution_count": 11,
   "metadata": {},
   "outputs": [
    {
     "data": {
      "text/plain": [
       "TfidfVectorizer(max_df=0.95, min_df=80)"
      ]
     },
     "execution_count": 11,
     "metadata": {},
     "output_type": "execute_result"
    }
   ],
   "source": [
    "vect.fit(X_train)"
   ]
  },
  {
   "cell_type": "code",
   "execution_count": 12,
   "metadata": {},
   "outputs": [
    {
     "data": {
      "text/html": [
       "<div>\n",
       "<style scoped>\n",
       "    .dataframe tbody tr th:only-of-type {\n",
       "        vertical-align: middle;\n",
       "    }\n",
       "\n",
       "    .dataframe tbody tr th {\n",
       "        vertical-align: top;\n",
       "    }\n",
       "\n",
       "    .dataframe thead th {\n",
       "        text-align: right;\n",
       "    }\n",
       "</style>\n",
       "<table border=\"1\" class=\"dataframe\">\n",
       "  <thead>\n",
       "    <tr style=\"text-align: right;\">\n",
       "      <th></th>\n",
       "      <th>000</th>\n",
       "      <th>10</th>\n",
       "      <th>100</th>\n",
       "      <th>11</th>\n",
       "      <th>12</th>\n",
       "      <th>13</th>\n",
       "      <th>14</th>\n",
       "      <th>15</th>\n",
       "      <th>16</th>\n",
       "      <th>17</th>\n",
       "      <th>...</th>\n",
       "      <th>yet</th>\n",
       "      <th>you</th>\n",
       "      <th>young</th>\n",
       "      <th>younger</th>\n",
       "      <th>your</th>\n",
       "      <th>youre</th>\n",
       "      <th>yourself</th>\n",
       "      <th>youtu</th>\n",
       "      <th>youtube</th>\n",
       "      <th>zero</th>\n",
       "    </tr>\n",
       "  </thead>\n",
       "  <tbody>\n",
       "    <tr>\n",
       "      <th>0</th>\n",
       "      <td>0.0</td>\n",
       "      <td>0.0</td>\n",
       "      <td>0.0</td>\n",
       "      <td>0.0</td>\n",
       "      <td>0.0</td>\n",
       "      <td>0.0</td>\n",
       "      <td>0.000000</td>\n",
       "      <td>0.0</td>\n",
       "      <td>0.0</td>\n",
       "      <td>0.0</td>\n",
       "      <td>...</td>\n",
       "      <td>0.0</td>\n",
       "      <td>0.099524</td>\n",
       "      <td>0.0</td>\n",
       "      <td>0.0</td>\n",
       "      <td>0.000000</td>\n",
       "      <td>0.0</td>\n",
       "      <td>0.0</td>\n",
       "      <td>0.0</td>\n",
       "      <td>0.0</td>\n",
       "      <td>0.0</td>\n",
       "    </tr>\n",
       "    <tr>\n",
       "      <th>1</th>\n",
       "      <td>0.0</td>\n",
       "      <td>0.0</td>\n",
       "      <td>0.0</td>\n",
       "      <td>0.0</td>\n",
       "      <td>0.0</td>\n",
       "      <td>0.0</td>\n",
       "      <td>0.000000</td>\n",
       "      <td>0.0</td>\n",
       "      <td>0.0</td>\n",
       "      <td>0.0</td>\n",
       "      <td>...</td>\n",
       "      <td>0.0</td>\n",
       "      <td>0.067477</td>\n",
       "      <td>0.0</td>\n",
       "      <td>0.0</td>\n",
       "      <td>0.046306</td>\n",
       "      <td>0.0</td>\n",
       "      <td>0.0</td>\n",
       "      <td>0.0</td>\n",
       "      <td>0.0</td>\n",
       "      <td>0.0</td>\n",
       "    </tr>\n",
       "    <tr>\n",
       "      <th>2</th>\n",
       "      <td>0.0</td>\n",
       "      <td>0.0</td>\n",
       "      <td>0.0</td>\n",
       "      <td>0.0</td>\n",
       "      <td>0.0</td>\n",
       "      <td>0.0</td>\n",
       "      <td>0.000000</td>\n",
       "      <td>0.0</td>\n",
       "      <td>0.0</td>\n",
       "      <td>0.0</td>\n",
       "      <td>...</td>\n",
       "      <td>0.0</td>\n",
       "      <td>0.000000</td>\n",
       "      <td>0.0</td>\n",
       "      <td>0.0</td>\n",
       "      <td>0.000000</td>\n",
       "      <td>0.0</td>\n",
       "      <td>0.0</td>\n",
       "      <td>0.0</td>\n",
       "      <td>0.0</td>\n",
       "      <td>0.0</td>\n",
       "    </tr>\n",
       "    <tr>\n",
       "      <th>3</th>\n",
       "      <td>0.0</td>\n",
       "      <td>0.0</td>\n",
       "      <td>0.0</td>\n",
       "      <td>0.0</td>\n",
       "      <td>0.0</td>\n",
       "      <td>0.0</td>\n",
       "      <td>0.087335</td>\n",
       "      <td>0.0</td>\n",
       "      <td>0.0</td>\n",
       "      <td>0.0</td>\n",
       "      <td>...</td>\n",
       "      <td>0.0</td>\n",
       "      <td>0.072734</td>\n",
       "      <td>0.0</td>\n",
       "      <td>0.0</td>\n",
       "      <td>0.000000</td>\n",
       "      <td>0.0</td>\n",
       "      <td>0.0</td>\n",
       "      <td>0.0</td>\n",
       "      <td>0.0</td>\n",
       "      <td>0.0</td>\n",
       "    </tr>\n",
       "    <tr>\n",
       "      <th>4</th>\n",
       "      <td>0.0</td>\n",
       "      <td>0.0</td>\n",
       "      <td>0.0</td>\n",
       "      <td>0.0</td>\n",
       "      <td>0.0</td>\n",
       "      <td>0.0</td>\n",
       "      <td>0.000000</td>\n",
       "      <td>0.0</td>\n",
       "      <td>0.0</td>\n",
       "      <td>0.0</td>\n",
       "      <td>...</td>\n",
       "      <td>0.0</td>\n",
       "      <td>0.000000</td>\n",
       "      <td>0.0</td>\n",
       "      <td>0.0</td>\n",
       "      <td>0.000000</td>\n",
       "      <td>0.0</td>\n",
       "      <td>0.0</td>\n",
       "      <td>0.0</td>\n",
       "      <td>0.0</td>\n",
       "      <td>0.0</td>\n",
       "    </tr>\n",
       "  </tbody>\n",
       "</table>\n",
       "<p>5 rows × 1589 columns</p>\n",
       "</div>"
      ],
      "text/plain": [
       "   000   10  100   11   12   13        14   15   16   17  ...  yet       you  \\\n",
       "0  0.0  0.0  0.0  0.0  0.0  0.0  0.000000  0.0  0.0  0.0  ...  0.0  0.099524   \n",
       "1  0.0  0.0  0.0  0.0  0.0  0.0  0.000000  0.0  0.0  0.0  ...  0.0  0.067477   \n",
       "2  0.0  0.0  0.0  0.0  0.0  0.0  0.000000  0.0  0.0  0.0  ...  0.0  0.000000   \n",
       "3  0.0  0.0  0.0  0.0  0.0  0.0  0.087335  0.0  0.0  0.0  ...  0.0  0.072734   \n",
       "4  0.0  0.0  0.0  0.0  0.0  0.0  0.000000  0.0  0.0  0.0  ...  0.0  0.000000   \n",
       "\n",
       "   young  younger      your  youre  yourself  youtu  youtube  zero  \n",
       "0    0.0      0.0  0.000000    0.0       0.0    0.0      0.0   0.0  \n",
       "1    0.0      0.0  0.046306    0.0       0.0    0.0      0.0   0.0  \n",
       "2    0.0      0.0  0.000000    0.0       0.0    0.0      0.0   0.0  \n",
       "3    0.0      0.0  0.000000    0.0       0.0    0.0      0.0   0.0  \n",
       "4    0.0      0.0  0.000000    0.0       0.0    0.0      0.0   0.0  \n",
       "\n",
       "[5 rows x 1589 columns]"
      ]
     },
     "execution_count": 12,
     "metadata": {},
     "output_type": "execute_result"
    }
   ],
   "source": [
    "train_df = pd.DataFrame(vect.transform(X_train).todense(), columns=vect.get_feature_names())\n",
    "train_df.head()"
   ]
  },
  {
   "cell_type": "code",
   "execution_count": 13,
   "metadata": {},
   "outputs": [
    {
     "data": {
      "text/html": [
       "<div>\n",
       "<style scoped>\n",
       "    .dataframe tbody tr th:only-of-type {\n",
       "        vertical-align: middle;\n",
       "    }\n",
       "\n",
       "    .dataframe tbody tr th {\n",
       "        vertical-align: top;\n",
       "    }\n",
       "\n",
       "    .dataframe thead th {\n",
       "        text-align: right;\n",
       "    }\n",
       "</style>\n",
       "<table border=\"1\" class=\"dataframe\">\n",
       "  <thead>\n",
       "    <tr style=\"text-align: right;\">\n",
       "      <th></th>\n",
       "      <th>000</th>\n",
       "      <th>10</th>\n",
       "      <th>100</th>\n",
       "      <th>11</th>\n",
       "      <th>12</th>\n",
       "      <th>13</th>\n",
       "      <th>14</th>\n",
       "      <th>15</th>\n",
       "      <th>16</th>\n",
       "      <th>17</th>\n",
       "      <th>...</th>\n",
       "      <th>yet</th>\n",
       "      <th>you</th>\n",
       "      <th>young</th>\n",
       "      <th>younger</th>\n",
       "      <th>your</th>\n",
       "      <th>youre</th>\n",
       "      <th>yourself</th>\n",
       "      <th>youtu</th>\n",
       "      <th>youtube</th>\n",
       "      <th>zero</th>\n",
       "    </tr>\n",
       "  </thead>\n",
       "  <tbody>\n",
       "    <tr>\n",
       "      <th>0</th>\n",
       "      <td>0.0</td>\n",
       "      <td>0.0</td>\n",
       "      <td>0.0</td>\n",
       "      <td>0.0</td>\n",
       "      <td>0.0</td>\n",
       "      <td>0.0</td>\n",
       "      <td>0.0</td>\n",
       "      <td>0.0</td>\n",
       "      <td>0.0</td>\n",
       "      <td>0.0</td>\n",
       "      <td>...</td>\n",
       "      <td>0.0</td>\n",
       "      <td>0.041829</td>\n",
       "      <td>0.0</td>\n",
       "      <td>0.0</td>\n",
       "      <td>0.0</td>\n",
       "      <td>0.0</td>\n",
       "      <td>0.0</td>\n",
       "      <td>0.0</td>\n",
       "      <td>0.0</td>\n",
       "      <td>0.0</td>\n",
       "    </tr>\n",
       "    <tr>\n",
       "      <th>1</th>\n",
       "      <td>0.0</td>\n",
       "      <td>0.0</td>\n",
       "      <td>0.0</td>\n",
       "      <td>0.0</td>\n",
       "      <td>0.0</td>\n",
       "      <td>0.0</td>\n",
       "      <td>0.0</td>\n",
       "      <td>0.0</td>\n",
       "      <td>0.0</td>\n",
       "      <td>0.0</td>\n",
       "      <td>...</td>\n",
       "      <td>0.0</td>\n",
       "      <td>0.000000</td>\n",
       "      <td>0.0</td>\n",
       "      <td>0.0</td>\n",
       "      <td>0.0</td>\n",
       "      <td>0.0</td>\n",
       "      <td>0.0</td>\n",
       "      <td>0.0</td>\n",
       "      <td>0.0</td>\n",
       "      <td>0.0</td>\n",
       "    </tr>\n",
       "    <tr>\n",
       "      <th>2</th>\n",
       "      <td>0.0</td>\n",
       "      <td>0.0</td>\n",
       "      <td>0.0</td>\n",
       "      <td>0.0</td>\n",
       "      <td>0.0</td>\n",
       "      <td>0.0</td>\n",
       "      <td>0.0</td>\n",
       "      <td>0.0</td>\n",
       "      <td>0.0</td>\n",
       "      <td>0.0</td>\n",
       "      <td>...</td>\n",
       "      <td>0.0</td>\n",
       "      <td>0.053652</td>\n",
       "      <td>0.0</td>\n",
       "      <td>0.0</td>\n",
       "      <td>0.0</td>\n",
       "      <td>0.0</td>\n",
       "      <td>0.0</td>\n",
       "      <td>0.0</td>\n",
       "      <td>0.0</td>\n",
       "      <td>0.0</td>\n",
       "    </tr>\n",
       "    <tr>\n",
       "      <th>3</th>\n",
       "      <td>0.0</td>\n",
       "      <td>0.0</td>\n",
       "      <td>0.0</td>\n",
       "      <td>0.0</td>\n",
       "      <td>0.0</td>\n",
       "      <td>0.0</td>\n",
       "      <td>0.0</td>\n",
       "      <td>0.0</td>\n",
       "      <td>0.0</td>\n",
       "      <td>0.0</td>\n",
       "      <td>...</td>\n",
       "      <td>0.0</td>\n",
       "      <td>0.000000</td>\n",
       "      <td>0.0</td>\n",
       "      <td>0.0</td>\n",
       "      <td>0.0</td>\n",
       "      <td>0.0</td>\n",
       "      <td>0.0</td>\n",
       "      <td>0.0</td>\n",
       "      <td>0.0</td>\n",
       "      <td>0.0</td>\n",
       "    </tr>\n",
       "    <tr>\n",
       "      <th>4</th>\n",
       "      <td>0.0</td>\n",
       "      <td>0.0</td>\n",
       "      <td>0.0</td>\n",
       "      <td>0.0</td>\n",
       "      <td>0.0</td>\n",
       "      <td>0.0</td>\n",
       "      <td>0.0</td>\n",
       "      <td>0.0</td>\n",
       "      <td>0.0</td>\n",
       "      <td>0.0</td>\n",
       "      <td>...</td>\n",
       "      <td>0.0</td>\n",
       "      <td>0.000000</td>\n",
       "      <td>0.0</td>\n",
       "      <td>0.0</td>\n",
       "      <td>0.0</td>\n",
       "      <td>0.0</td>\n",
       "      <td>0.0</td>\n",
       "      <td>0.0</td>\n",
       "      <td>0.0</td>\n",
       "      <td>0.0</td>\n",
       "    </tr>\n",
       "  </tbody>\n",
       "</table>\n",
       "<p>5 rows × 1589 columns</p>\n",
       "</div>"
      ],
      "text/plain": [
       "   000   10  100   11   12   13   14   15   16   17  ...  yet       you  \\\n",
       "0  0.0  0.0  0.0  0.0  0.0  0.0  0.0  0.0  0.0  0.0  ...  0.0  0.041829   \n",
       "1  0.0  0.0  0.0  0.0  0.0  0.0  0.0  0.0  0.0  0.0  ...  0.0  0.000000   \n",
       "2  0.0  0.0  0.0  0.0  0.0  0.0  0.0  0.0  0.0  0.0  ...  0.0  0.053652   \n",
       "3  0.0  0.0  0.0  0.0  0.0  0.0  0.0  0.0  0.0  0.0  ...  0.0  0.000000   \n",
       "4  0.0  0.0  0.0  0.0  0.0  0.0  0.0  0.0  0.0  0.0  ...  0.0  0.000000   \n",
       "\n",
       "   young  younger  your  youre  yourself  youtu  youtube  zero  \n",
       "0    0.0      0.0   0.0    0.0       0.0    0.0      0.0   0.0  \n",
       "1    0.0      0.0   0.0    0.0       0.0    0.0      0.0   0.0  \n",
       "2    0.0      0.0   0.0    0.0       0.0    0.0      0.0   0.0  \n",
       "3    0.0      0.0   0.0    0.0       0.0    0.0      0.0   0.0  \n",
       "4    0.0      0.0   0.0    0.0       0.0    0.0      0.0   0.0  \n",
       "\n",
       "[5 rows x 1589 columns]"
      ]
     },
     "execution_count": 13,
     "metadata": {},
     "output_type": "execute_result"
    }
   ],
   "source": [
    "val_df = pd.DataFrame(vect.transform(X_test).todense(), columns=vect.get_feature_names())\n",
    "val_df.head()"
   ]
  },
  {
   "cell_type": "markdown",
   "metadata": {},
   "source": [
    "# Model"
   ]
  },
  {
   "cell_type": "code",
   "execution_count": 14,
   "metadata": {},
   "outputs": [],
   "source": [
    "model = Sequential()\n",
    "model.add(Dense(128, activation='relu', input_dim=train_df.shape[1]))\n",
    "model.add(Dense(128, activation='relu'))\n",
    "model.add(Dense(64, activation='relu'))\n",
    "model.add(Dense(df.subreddit.nunique(), activation='softmax'))\n",
    "\n",
    "model.compile(optimizer='adam', loss='sparse_categorical_crossentropy', metrics=['accuracy'])"
   ]
  },
  {
   "cell_type": "code",
   "execution_count": 15,
   "metadata": {},
   "outputs": [
    {
     "name": "stdout",
     "output_type": "stream",
     "text": [
      "Epoch 1/30\n",
      "502/502 [==============================] - 1s 3ms/step - loss: 3.3819 - accuracy: 0.1991 - val_loss: 2.4659 - val_accuracy: 0.3430\n",
      "Epoch 2/30\n",
      "502/502 [==============================] - 1s 3ms/step - loss: 2.1842 - accuracy: 0.4110 - val_loss: 2.2741 - val_accuracy: 0.3925\n",
      "Epoch 3/30\n",
      "502/502 [==============================] - 1s 3ms/step - loss: 1.8766 - accuracy: 0.4758 - val_loss: 2.2305 - val_accuracy: 0.4068\n",
      "Epoch 4/30\n",
      "502/502 [==============================] - 1s 3ms/step - loss: 1.6852 - accuracy: 0.5232 - val_loss: 2.2767 - val_accuracy: 0.4088\n",
      "Epoch 5/30\n",
      "502/502 [==============================] - 1s 3ms/step - loss: 1.5211 - accuracy: 0.5659 - val_loss: 2.3063 - val_accuracy: 0.4181\n",
      "Epoch 6/30\n",
      "502/502 [==============================] - 1s 3ms/step - loss: 1.3736 - accuracy: 0.6035 - val_loss: 2.3688 - val_accuracy: 0.4130\n",
      "Epoch 7/30\n",
      "502/502 [==============================] - 1s 3ms/step - loss: 1.2252 - accuracy: 0.6456 - val_loss: 2.4987 - val_accuracy: 0.4093\n",
      "Epoch 8/30\n",
      "502/502 [==============================] - 1s 3ms/step - loss: 1.0884 - accuracy: 0.6872 - val_loss: 2.6234 - val_accuracy: 0.4093\n",
      "Epoch 9/30\n",
      "502/502 [==============================] - 1s 3ms/step - loss: 0.9469 - accuracy: 0.7245 - val_loss: 2.8377 - val_accuracy: 0.4044\n",
      "Epoch 10/30\n",
      "502/502 [==============================] - 1s 3ms/step - loss: 0.8195 - accuracy: 0.7641 - val_loss: 3.0301 - val_accuracy: 0.3933\n",
      "Epoch 11/30\n",
      "502/502 [==============================] - 1s 3ms/step - loss: 0.6959 - accuracy: 0.8055 - val_loss: 3.2222 - val_accuracy: 0.3961\n",
      "Epoch 12/30\n",
      "502/502 [==============================] - 1s 3ms/step - loss: 0.5908 - accuracy: 0.8369 - val_loss: 3.5278 - val_accuracy: 0.3917\n",
      "Epoch 13/30\n",
      "502/502 [==============================] - 1s 3ms/step - loss: 0.4984 - accuracy: 0.8663 - val_loss: 3.7849 - val_accuracy: 0.3892\n",
      "Epoch 14/30\n",
      "502/502 [==============================] - 1s 3ms/step - loss: 0.4186 - accuracy: 0.8888 - val_loss: 4.0065 - val_accuracy: 0.3901\n",
      "Epoch 15/30\n",
      "502/502 [==============================] - 1s 3ms/step - loss: 0.3648 - accuracy: 0.9037 - val_loss: 4.3082 - val_accuracy: 0.3828\n",
      "Epoch 16/30\n",
      "502/502 [==============================] - 1s 3ms/step - loss: 0.3160 - accuracy: 0.9189 - val_loss: 4.6307 - val_accuracy: 0.3852\n",
      "Epoch 17/30\n",
      "502/502 [==============================] - 1s 3ms/step - loss: 0.2801 - accuracy: 0.9289 - val_loss: 4.8707 - val_accuracy: 0.3850\n",
      "Epoch 18/30\n",
      "502/502 [==============================] - 1s 3ms/step - loss: 0.2640 - accuracy: 0.9313 - val_loss: 4.9937 - val_accuracy: 0.3865\n",
      "Epoch 19/30\n",
      "502/502 [==============================] - 1s 3ms/step - loss: 0.2444 - accuracy: 0.9361 - val_loss: 5.3322 - val_accuracy: 0.3832\n",
      "Epoch 20/30\n",
      "502/502 [==============================] - 1s 3ms/step - loss: 0.2304 - accuracy: 0.9408 - val_loss: 5.4383 - val_accuracy: 0.3812\n",
      "Epoch 21/30\n",
      "502/502 [==============================] - 1s 3ms/step - loss: 0.2202 - accuracy: 0.9424 - val_loss: 5.6035 - val_accuracy: 0.3839\n",
      "Epoch 22/30\n",
      "502/502 [==============================] - 1s 3ms/step - loss: 0.2104 - accuracy: 0.9440 - val_loss: 5.7784 - val_accuracy: 0.3789\n",
      "Epoch 23/30\n",
      "502/502 [==============================] - 1s 3ms/step - loss: 0.2051 - accuracy: 0.9465 - val_loss: 6.0006 - val_accuracy: 0.3741\n",
      "Epoch 24/30\n",
      "502/502 [==============================] - 1s 3ms/step - loss: 0.2022 - accuracy: 0.9460 - val_loss: 5.9458 - val_accuracy: 0.3802\n",
      "Epoch 25/30\n",
      "502/502 [==============================] - 1s 3ms/step - loss: 0.1909 - accuracy: 0.9490 - val_loss: 6.0938 - val_accuracy: 0.3772\n",
      "Epoch 26/30\n",
      "502/502 [==============================] - 1s 3ms/step - loss: 0.1855 - accuracy: 0.9509 - val_loss: 6.2208 - val_accuracy: 0.3790\n",
      "Epoch 27/30\n",
      "502/502 [==============================] - 1s 3ms/step - loss: 0.1865 - accuracy: 0.9498 - val_loss: 6.2315 - val_accuracy: 0.3770\n",
      "Epoch 28/30\n",
      "502/502 [==============================] - 1s 3ms/step - loss: 0.1795 - accuracy: 0.9519 - val_loss: 6.3444 - val_accuracy: 0.3809\n",
      "Epoch 29/30\n",
      "502/502 [==============================] - 1s 3ms/step - loss: 0.1713 - accuracy: 0.9552 - val_loss: 6.3769 - val_accuracy: 0.3783\n",
      "Epoch 30/30\n",
      "502/502 [==============================] - 1s 2ms/step - loss: 0.1743 - accuracy: 0.9521 - val_loss: 6.3824 - val_accuracy: 0.3827\n"
     ]
    },
    {
     "data": {
      "text/plain": [
       "<tensorflow.python.keras.callbacks.History at 0x7fc3550c10d0>"
      ]
     },
     "execution_count": 15,
     "metadata": {},
     "output_type": "execute_result"
    }
   ],
   "source": [
    "model.fit(train_df.to_numpy(), y_train, batch_size=32, epochs=30, validation_data=(val_df.to_numpy(), y_test))"
   ]
  },
  {
   "cell_type": "markdown",
   "metadata": {},
   "source": [
    "### Early findings: A simple nueral net seems to be competitive with a simple logistic regression. As more the conventional models, out of the box it seems that the models worth considering are SVM, LogReg, SGD. SVM is slow on training and predictions though."
   ]
  },
  {
   "cell_type": "code",
   "execution_count": 16,
   "metadata": {},
   "outputs": [
    {
     "name": "stdout",
     "output_type": "stream",
     "text": [
      "Epoch 1/30\n",
      "502/502 [==============================] - 1s 2ms/step - loss: 4.4047 - accuracy: 0.0199 - val_loss: 4.1315 - val_accuracy: 0.0256\n",
      "Epoch 2/30\n",
      "502/502 [==============================] - 1s 2ms/step - loss: 4.0954 - accuracy: 0.0305 - val_loss: 4.0318 - val_accuracy: 0.0286\n",
      "Epoch 3/30\n",
      "502/502 [==============================] - 1s 2ms/step - loss: 4.0429 - accuracy: 0.0346 - val_loss: 4.0051 - val_accuracy: 0.0404\n",
      "Epoch 4/30\n",
      "502/502 [==============================] - 1s 2ms/step - loss: 4.0171 - accuracy: 0.0385 - val_loss: 3.9797 - val_accuracy: 0.0409\n",
      "Epoch 5/30\n",
      "502/502 [==============================] - 1s 2ms/step - loss: 3.9907 - accuracy: 0.0380 - val_loss: 3.9408 - val_accuracy: 0.0447\n",
      "Epoch 6/30\n",
      "502/502 [==============================] - 2s 3ms/step - loss: 3.9707 - accuracy: 0.0425 - val_loss: 3.9128 - val_accuracy: 0.0428\n",
      "Epoch 7/30\n",
      "502/502 [==============================] - 2s 3ms/step - loss: 3.9474 - accuracy: 0.0424 - val_loss: 3.9021 - val_accuracy: 0.0444\n",
      "Epoch 8/30\n",
      "502/502 [==============================] - 2s 3ms/step - loss: 3.9272 - accuracy: 0.0474 - val_loss: 3.8872 - val_accuracy: 0.0418\n",
      "Epoch 9/30\n",
      "502/502 [==============================] - 2s 3ms/step - loss: 3.9187 - accuracy: 0.0468 - val_loss: 3.8799 - val_accuracy: 0.0517\n",
      "Epoch 10/30\n",
      "502/502 [==============================] - 2s 3ms/step - loss: 3.9101 - accuracy: 0.0490 - val_loss: 3.8611 - val_accuracy: 0.0509\n",
      "Epoch 11/30\n",
      "502/502 [==============================] - 2s 3ms/step - loss: 3.8931 - accuracy: 0.0486 - val_loss: 3.8613 - val_accuracy: 0.0478\n",
      "Epoch 12/30\n",
      "502/502 [==============================] - 2s 4ms/step - loss: 3.8857 - accuracy: 0.0490 - val_loss: 3.8575 - val_accuracy: 0.0486\n",
      "Epoch 13/30\n",
      "502/502 [==============================] - 2s 3ms/step - loss: 3.8759 - accuracy: 0.0474 - val_loss: 3.8674 - val_accuracy: 0.0505\n",
      "Epoch 14/30\n",
      "502/502 [==============================] - 2s 3ms/step - loss: 3.8647 - accuracy: 0.0510 - val_loss: 3.8508 - val_accuracy: 0.0453\n",
      "Epoch 15/30\n",
      "502/502 [==============================] - 2s 3ms/step - loss: 3.8617 - accuracy: 0.0533 - val_loss: 3.8445 - val_accuracy: 0.0550\n",
      "Epoch 16/30\n",
      "502/502 [==============================] - 1s 3ms/step - loss: 3.8489 - accuracy: 0.0505 - val_loss: 3.8412 - val_accuracy: 0.0493\n",
      "Epoch 17/30\n",
      "502/502 [==============================] - 2s 3ms/step - loss: 3.8391 - accuracy: 0.0490 - val_loss: 3.8513 - val_accuracy: 0.0504\n",
      "Epoch 18/30\n",
      "502/502 [==============================] - 2s 3ms/step - loss: 3.8396 - accuracy: 0.0496 - val_loss: 3.8347 - val_accuracy: 0.0624\n",
      "Epoch 19/30\n",
      "502/502 [==============================] - 2s 3ms/step - loss: 3.8350 - accuracy: 0.0522 - val_loss: 3.8347 - val_accuracy: 0.0620\n",
      "Epoch 20/30\n",
      "502/502 [==============================] - 2s 3ms/step - loss: 3.8225 - accuracy: 0.0528 - val_loss: 3.8318 - val_accuracy: 0.0514\n",
      "Epoch 21/30\n",
      "502/502 [==============================] - 2s 3ms/step - loss: 3.8171 - accuracy: 0.0540 - val_loss: 3.8315 - val_accuracy: 0.0471\n",
      "Epoch 22/30\n",
      "502/502 [==============================] - 2s 3ms/step - loss: 3.8159 - accuracy: 0.0543 - val_loss: 3.8268 - val_accuracy: 0.0622\n",
      "Epoch 23/30\n",
      "502/502 [==============================] - 2s 3ms/step - loss: 3.7986 - accuracy: 0.0548 - val_loss: 3.8273 - val_accuracy: 0.0587\n",
      "Epoch 24/30\n",
      "502/502 [==============================] - 1s 3ms/step - loss: 3.7861 - accuracy: 0.0571 - val_loss: 3.7916 - val_accuracy: 0.0606\n",
      "Epoch 25/30\n",
      "502/502 [==============================] - 2s 4ms/step - loss: 3.7502 - accuracy: 0.0691 - val_loss: 3.7708 - val_accuracy: 0.0767\n",
      "Epoch 26/30\n",
      "502/502 [==============================] - 2s 3ms/step - loss: 3.7090 - accuracy: 0.0824 - val_loss: 3.6869 - val_accuracy: 0.0994\n",
      "Epoch 27/30\n",
      "502/502 [==============================] - 2s 3ms/step - loss: 3.6577 - accuracy: 0.0886 - val_loss: 3.6380 - val_accuracy: 0.1094\n",
      "Epoch 28/30\n",
      "502/502 [==============================] - 2s 3ms/step - loss: 3.6183 - accuracy: 0.1032 - val_loss: 3.6013 - val_accuracy: 0.1132\n",
      "Epoch 29/30\n",
      "502/502 [==============================] - 2s 3ms/step - loss: 3.5875 - accuracy: 0.1087 - val_loss: 3.5809 - val_accuracy: 0.1235\n",
      "Epoch 30/30\n",
      "502/502 [==============================] - 2s 3ms/step - loss: 3.5640 - accuracy: 0.1147 - val_loss: 3.5565 - val_accuracy: 0.1322\n"
     ]
    },
    {
     "data": {
      "text/plain": [
       "<tensorflow.python.keras.callbacks.History at 0x7fc3554acfd0>"
      ]
     },
     "execution_count": 16,
     "metadata": {},
     "output_type": "execute_result"
    }
   ],
   "source": [
    "model = Sequential()\n",
    "model.add(Dense(128, activation='relu', kernel_regularizer=l2(0.003), input_dim=train_df.shape[1]))\n",
    "model.add(Dropout(.2))\n",
    "model.add(Dense(128, activation='relu', kernel_regularizer=l2(0.003)))\n",
    "model.add(Dropout(.2))\n",
    "model.add(Dense(64, activation='relu', kernel_regularizer=l2(0.003)))\n",
    "model.add(Dropout(.2))\n",
    "model.add(Dense(df.subreddit.nunique(), activation='softmax'))\n",
    "\n",
    "model.compile(optimizer='adam', loss='sparse_categorical_crossentropy', metrics=['accuracy'])\n",
    "\n",
    "model.fit(train_df.to_numpy(), y_train, batch_size=32, epochs=30, validation_data=(val_df.to_numpy(), y_test))"
   ]
  },
  {
   "cell_type": "markdown",
   "metadata": {},
   "source": [
    "# IF YOU WANT TO USE NN PICKLE LABEL ENCODER, REMEMBER TO MAKE A PREDICT FUNCTION FOR WHATEVER MODEL YOU CHOOSE"
   ]
  },
  {
   "cell_type": "code",
   "execution_count": null,
   "metadata": {},
   "outputs": [],
   "source": []
  }
 ],
 "metadata": {
  "kernelspec": {
   "display_name": "Python 3",
   "language": "python",
   "name": "python3"
  },
  "language_info": {
   "codemirror_mode": {
    "name": "ipython",
    "version": 3
   },
   "file_extension": ".py",
   "mimetype": "text/x-python",
   "name": "python",
   "nbconvert_exporter": "python",
   "pygments_lexer": "ipython3",
   "version": "3.7.6"
  }
 },
 "nbformat": 4,
 "nbformat_minor": 4
}
