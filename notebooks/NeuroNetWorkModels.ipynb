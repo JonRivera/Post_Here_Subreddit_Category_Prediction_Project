{
 "cells": [
  {
   "cell_type": "markdown",
   "metadata": {},
   "source": [
    "# Imports"
   ]
  },
  {
   "cell_type": "code",
   "execution_count": 23,
   "metadata": {},
   "outputs": [],
   "source": [
    "import numpy as np\n",
    "import pandas as pd\n",
    "\n",
    "from sklearn.model_selection import train_test_split\n",
    "from sklearn.feature_extraction.text import TfidfVectorizer\n",
    "from sklearn.preprocessing import LabelEncoder\n",
    "\n",
    "from tensorflow.keras import Sequential\n",
    "from tensorflow.keras.layers import Dense, Dropout\n",
    "from tensorflow.keras.regularizers import l2\n",
    "\n",
    "import pickle\n",
    "import psycopg2"
   ]
  },
  {
   "cell_type": "markdown",
   "metadata": {},
   "source": [
    "# Read in data"
   ]
  },
  {
   "cell_type": "code",
   "execution_count": 24,
   "metadata": {},
   "outputs": [],
   "source": [
    "with open(\"../database/secrets\", \"r\") as file:\n",
    "    secrets = [i.strip('\\n') for i in file.readlines()]\n",
    "\n",
    "\n",
    "def conn_curs():\n",
    "    \"\"\"\n",
    "    makes a connection to the database dont worry these are dummy keys\n",
    "    \"\"\"\n",
    "\n",
    "    connection = psycopg2.connect(dbname=secrets[4], user=secrets[4],\n",
    "                                  password=secrets[5], host=secrets[6])\n",
    "    cursor = connection.cursor()\n",
    "    return connection, cursor"
   ]
  },
  {
   "cell_type": "code",
   "execution_count": 25,
   "metadata": {},
   "outputs": [],
   "source": [
    "conn, curs = conn_curs()\n",
    "df = pd.read_sql(\"SELECT * FROM posts\", conn)"
   ]
  },
  {
   "cell_type": "markdown",
   "metadata": {},
   "source": [
    "# Exploring Data Frame"
   ]
  },
  {
   "cell_type": "code",
   "execution_count": 26,
   "metadata": {},
   "outputs": [],
   "source": [
    "df.drop('id', axis=1, inplace=True)"
   ]
  },
  {
   "cell_type": "code",
   "execution_count": 27,
   "metadata": {},
   "outputs": [
    {
     "data": {
      "text/plain": [
       "(29788, 2)"
      ]
     },
     "execution_count": 27,
     "metadata": {},
     "output_type": "execute_result"
    }
   ],
   "source": [
    "df.shape"
   ]
  },
  {
   "cell_type": "code",
   "execution_count": 28,
   "metadata": {},
   "outputs": [
    {
     "data": {
      "text/html": [
       "<div>\n",
       "<style scoped>\n",
       "    .dataframe tbody tr th:only-of-type {\n",
       "        vertical-align: middle;\n",
       "    }\n",
       "\n",
       "    .dataframe tbody tr th {\n",
       "        vertical-align: top;\n",
       "    }\n",
       "\n",
       "    .dataframe thead th {\n",
       "        text-align: right;\n",
       "    }\n",
       "</style>\n",
       "<table border=\"1\" class=\"dataframe\">\n",
       "  <thead>\n",
       "    <tr style=\"text-align: right;\">\n",
       "      <th></th>\n",
       "      <th>text</th>\n",
       "      <th>subreddit</th>\n",
       "    </tr>\n",
       "  </thead>\n",
       "  <tbody>\n",
       "    <tr>\n",
       "      <th>0</th>\n",
       "      <td>Thousand Year Blood War Arc Anime Adaptation M...</td>\n",
       "      <td>bleach</td>\n",
       "    </tr>\n",
       "    <tr>\n",
       "      <th>1</th>\n",
       "      <td>Burn The Witch - Chapter 4 Discussion Thread #...</td>\n",
       "      <td>bleach</td>\n",
       "    </tr>\n",
       "    <tr>\n",
       "      <th>2</th>\n",
       "      <td>Let the journey begin.</td>\n",
       "      <td>bleach</td>\n",
       "    </tr>\n",
       "    <tr>\n",
       "      <th>3</th>\n",
       "      <td>Since Ichigos an English Literature major, thi...</td>\n",
       "      <td>bleach</td>\n",
       "    </tr>\n",
       "    <tr>\n",
       "      <th>4</th>\n",
       "      <td>I just made these Ulquiorra customs for a clie...</td>\n",
       "      <td>bleach</td>\n",
       "    </tr>\n",
       "  </tbody>\n",
       "</table>\n",
       "</div>"
      ],
      "text/plain": [
       "                                                text subreddit\n",
       "0  Thousand Year Blood War Arc Anime Adaptation M...    bleach\n",
       "1  Burn The Witch - Chapter 4 Discussion Thread #...    bleach\n",
       "2                            Let the journey begin.     bleach\n",
       "3  Since Ichigos an English Literature major, thi...    bleach\n",
       "4  I just made these Ulquiorra customs for a clie...    bleach"
      ]
     },
     "execution_count": 28,
     "metadata": {},
     "output_type": "execute_result"
    }
   ],
   "source": [
    "df.head()"
   ]
  },
  {
   "cell_type": "markdown",
   "metadata": {},
   "source": [
    "# Vectorize"
   ]
  },
  {
   "cell_type": "code",
   "execution_count": 29,
   "metadata": {},
   "outputs": [
    {
     "data": {
      "text/plain": [
       "LabelEncoder()"
      ]
     },
     "execution_count": 29,
     "metadata": {},
     "output_type": "execute_result"
    }
   ],
   "source": [
    "le = LabelEncoder()\n",
    "le.fit(df.subreddit.unique())"
   ]
  },
  {
   "cell_type": "code",
   "execution_count": 30,
   "metadata": {},
   "outputs": [
    {
     "data": {
      "text/plain": [
       "array(['Animesuggest', 'AquaSwap', 'AusLegal', 'BackYardChickens',\n",
       "       'BeardedDragons', 'Bedbugs', 'Beekeeping', 'Berserk',\n",
       "       'BokuNoHeroAcademia', 'CaptainTsubasaDT', 'CasualConversation',\n",
       "       'CatAdvice', 'Clairvoyantreadings', 'DDLC', 'DarlingInTheFranxx',\n",
       "       'DecidingToBeBetter', 'Dogtraining', 'Dragonballsuper',\n",
       "       'GetMotivated', 'GiftIdeas', 'Gifts', 'Gundam', 'Gunpla',\n",
       "       'HelpMeFind', 'HunterXHunter', 'INeedAName', 'IWantOut',\n",
       "       'ImmigrationCanada', 'KissAnime', 'LegalAdviceUK', 'LifeProTips',\n",
       "       'MLPLounge', 'NameThatSong', 'NoStupidQuestions', 'Petloss',\n",
       "       'Pets', 'RATS', 'RBI', 'Rabbits', 'ShingekiNoKyojin',\n",
       "       'StardustCrusaders', 'StopGaming', 'TooAfraidToAsk',\n",
       "       'WouldYouRather', 'anime', 'answers', 'araragi', 'ask', 'asklaw',\n",
       "       'ballpython', 'bettafish', 'bleach', 'cats', 'changemyview',\n",
       "       'christmas', 'datarecovery', 'dbz', 'deathnote', 'declutter',\n",
       "       'dogs', 'explainlikeimfive', 'fatestaynight', 'ferrets',\n",
       "       'findapath', 'getdisciplined', 'getting_over_it', 'guineapigs',\n",
       "       'hamsters', 'help', 'ifyoulikeblank', 'immigration', 'legal',\n",
       "       'legaladvice', 'legaladviceofftopic', 'leopardgeckos',\n",
       "       'makemychoice', 'manga', 'needadvice', 'nosurf', 'parrots',\n",
       "       'pestcontrol', 'productivity', 'puppy101', 'reptiles', 'resumes',\n",
       "       'selfhelp', 'selfimprovement', 'shrimptank', 'snakes',\n",
       "       'tarantulas', 'theydidthemath', 'tipofmytongue', 'translator',\n",
       "       'ukvisa', 'whatisthisthing', 'whatsthatbook', 'whatstheword',\n",
       "       'whatsthisbug', 'whatsthisplant', 'whatsthisworth'], dtype=object)"
      ]
     },
     "execution_count": 30,
     "metadata": {},
     "output_type": "execute_result"
    }
   ],
   "source": [
    "le.classes_"
   ]
  },
  {
   "cell_type": "code",
   "execution_count": 31,
   "metadata": {},
   "outputs": [
    {
     "data": {
      "text/plain": [
       "'snakes'"
      ]
     },
     "execution_count": 31,
     "metadata": {},
     "output_type": "execute_result"
    }
   ],
   "source": [
    "le.classes_[88]"
   ]
  },
  {
   "cell_type": "code",
   "execution_count": 32,
   "metadata": {},
   "outputs": [],
   "source": [
    "X_train, X_test, y_train, y_test = train_test_split(df.text, le.transform(df.subreddit), test_size=0.33, random_state=42)"
   ]
  },
  {
   "cell_type": "code",
   "execution_count": 33,
   "metadata": {},
   "outputs": [],
   "source": [
    "vect = TfidfVectorizer(max_df=.95, min_df=80)"
   ]
  },
  {
   "cell_type": "code",
   "execution_count": 34,
   "metadata": {},
   "outputs": [
    {
     "data": {
      "text/plain": [
       "TfidfVectorizer(max_df=0.95, min_df=80)"
      ]
     },
     "execution_count": 34,
     "metadata": {},
     "output_type": "execute_result"
    }
   ],
   "source": [
    "vect.fit(X_train)"
   ]
  },
  {
   "cell_type": "code",
   "execution_count": 35,
   "metadata": {},
   "outputs": [
    {
     "data": {
      "text/html": [
       "<div>\n",
       "<style scoped>\n",
       "    .dataframe tbody tr th:only-of-type {\n",
       "        vertical-align: middle;\n",
       "    }\n",
       "\n",
       "    .dataframe tbody tr th {\n",
       "        vertical-align: top;\n",
       "    }\n",
       "\n",
       "    .dataframe thead th {\n",
       "        text-align: right;\n",
       "    }\n",
       "</style>\n",
       "<table border=\"1\" class=\"dataframe\">\n",
       "  <thead>\n",
       "    <tr style=\"text-align: right;\">\n",
       "      <th></th>\n",
       "      <th>000</th>\n",
       "      <th>10</th>\n",
       "      <th>100</th>\n",
       "      <th>11</th>\n",
       "      <th>12</th>\n",
       "      <th>13</th>\n",
       "      <th>14</th>\n",
       "      <th>15</th>\n",
       "      <th>16</th>\n",
       "      <th>17</th>\n",
       "      <th>...</th>\n",
       "      <th>youll</th>\n",
       "      <th>young</th>\n",
       "      <th>younger</th>\n",
       "      <th>your</th>\n",
       "      <th>youre</th>\n",
       "      <th>yourself</th>\n",
       "      <th>youtu</th>\n",
       "      <th>youtube</th>\n",
       "      <th>youve</th>\n",
       "      <th>zero</th>\n",
       "    </tr>\n",
       "  </thead>\n",
       "  <tbody>\n",
       "    <tr>\n",
       "      <th>0</th>\n",
       "      <td>0.0</td>\n",
       "      <td>0.0</td>\n",
       "      <td>0.0</td>\n",
       "      <td>0.0</td>\n",
       "      <td>0.0</td>\n",
       "      <td>0.0</td>\n",
       "      <td>0.0</td>\n",
       "      <td>0.0</td>\n",
       "      <td>0.0</td>\n",
       "      <td>0.0</td>\n",
       "      <td>...</td>\n",
       "      <td>0.0</td>\n",
       "      <td>0.0</td>\n",
       "      <td>0.0</td>\n",
       "      <td>0.0</td>\n",
       "      <td>0.0</td>\n",
       "      <td>0.0</td>\n",
       "      <td>0.0</td>\n",
       "      <td>0.0</td>\n",
       "      <td>0.0</td>\n",
       "      <td>0.0</td>\n",
       "    </tr>\n",
       "    <tr>\n",
       "      <th>1</th>\n",
       "      <td>0.0</td>\n",
       "      <td>0.0</td>\n",
       "      <td>0.0</td>\n",
       "      <td>0.0</td>\n",
       "      <td>0.0</td>\n",
       "      <td>0.0</td>\n",
       "      <td>0.0</td>\n",
       "      <td>0.0</td>\n",
       "      <td>0.0</td>\n",
       "      <td>0.0</td>\n",
       "      <td>...</td>\n",
       "      <td>0.0</td>\n",
       "      <td>0.0</td>\n",
       "      <td>0.0</td>\n",
       "      <td>0.0</td>\n",
       "      <td>0.0</td>\n",
       "      <td>0.0</td>\n",
       "      <td>0.0</td>\n",
       "      <td>0.0</td>\n",
       "      <td>0.0</td>\n",
       "      <td>0.0</td>\n",
       "    </tr>\n",
       "    <tr>\n",
       "      <th>2</th>\n",
       "      <td>0.0</td>\n",
       "      <td>0.0</td>\n",
       "      <td>0.0</td>\n",
       "      <td>0.0</td>\n",
       "      <td>0.0</td>\n",
       "      <td>0.0</td>\n",
       "      <td>0.0</td>\n",
       "      <td>0.0</td>\n",
       "      <td>0.0</td>\n",
       "      <td>0.0</td>\n",
       "      <td>...</td>\n",
       "      <td>0.0</td>\n",
       "      <td>0.0</td>\n",
       "      <td>0.0</td>\n",
       "      <td>0.0</td>\n",
       "      <td>0.0</td>\n",
       "      <td>0.0</td>\n",
       "      <td>0.0</td>\n",
       "      <td>0.0</td>\n",
       "      <td>0.0</td>\n",
       "      <td>0.0</td>\n",
       "    </tr>\n",
       "    <tr>\n",
       "      <th>3</th>\n",
       "      <td>0.0</td>\n",
       "      <td>0.0</td>\n",
       "      <td>0.0</td>\n",
       "      <td>0.0</td>\n",
       "      <td>0.0</td>\n",
       "      <td>0.0</td>\n",
       "      <td>0.0</td>\n",
       "      <td>0.0</td>\n",
       "      <td>0.0</td>\n",
       "      <td>0.0</td>\n",
       "      <td>...</td>\n",
       "      <td>0.0</td>\n",
       "      <td>0.0</td>\n",
       "      <td>0.0</td>\n",
       "      <td>0.0</td>\n",
       "      <td>0.0</td>\n",
       "      <td>0.0</td>\n",
       "      <td>0.0</td>\n",
       "      <td>0.0</td>\n",
       "      <td>0.0</td>\n",
       "      <td>0.0</td>\n",
       "    </tr>\n",
       "    <tr>\n",
       "      <th>4</th>\n",
       "      <td>0.0</td>\n",
       "      <td>0.0</td>\n",
       "      <td>0.0</td>\n",
       "      <td>0.0</td>\n",
       "      <td>0.0</td>\n",
       "      <td>0.0</td>\n",
       "      <td>0.0</td>\n",
       "      <td>0.0</td>\n",
       "      <td>0.0</td>\n",
       "      <td>0.0</td>\n",
       "      <td>...</td>\n",
       "      <td>0.0</td>\n",
       "      <td>0.0</td>\n",
       "      <td>0.0</td>\n",
       "      <td>0.0</td>\n",
       "      <td>0.0</td>\n",
       "      <td>0.0</td>\n",
       "      <td>0.0</td>\n",
       "      <td>0.0</td>\n",
       "      <td>0.0</td>\n",
       "      <td>0.0</td>\n",
       "    </tr>\n",
       "  </tbody>\n",
       "</table>\n",
       "<p>5 rows × 1858 columns</p>\n",
       "</div>"
      ],
      "text/plain": [
       "   000   10  100   11   12   13   14   15   16   17  ...  youll  young  \\\n",
       "0  0.0  0.0  0.0  0.0  0.0  0.0  0.0  0.0  0.0  0.0  ...    0.0    0.0   \n",
       "1  0.0  0.0  0.0  0.0  0.0  0.0  0.0  0.0  0.0  0.0  ...    0.0    0.0   \n",
       "2  0.0  0.0  0.0  0.0  0.0  0.0  0.0  0.0  0.0  0.0  ...    0.0    0.0   \n",
       "3  0.0  0.0  0.0  0.0  0.0  0.0  0.0  0.0  0.0  0.0  ...    0.0    0.0   \n",
       "4  0.0  0.0  0.0  0.0  0.0  0.0  0.0  0.0  0.0  0.0  ...    0.0    0.0   \n",
       "\n",
       "   younger  your  youre  yourself  youtu  youtube  youve  zero  \n",
       "0      0.0   0.0    0.0       0.0    0.0      0.0    0.0   0.0  \n",
       "1      0.0   0.0    0.0       0.0    0.0      0.0    0.0   0.0  \n",
       "2      0.0   0.0    0.0       0.0    0.0      0.0    0.0   0.0  \n",
       "3      0.0   0.0    0.0       0.0    0.0      0.0    0.0   0.0  \n",
       "4      0.0   0.0    0.0       0.0    0.0      0.0    0.0   0.0  \n",
       "\n",
       "[5 rows x 1858 columns]"
      ]
     },
     "execution_count": 35,
     "metadata": {},
     "output_type": "execute_result"
    }
   ],
   "source": [
    "train_df = pd.DataFrame(vect.transform(X_train).todense(), columns=vect.get_feature_names())\n",
    "train_df.head()"
   ]
  },
  {
   "cell_type": "code",
   "execution_count": 36,
   "metadata": {},
   "outputs": [
    {
     "data": {
      "text/html": [
       "<div>\n",
       "<style scoped>\n",
       "    .dataframe tbody tr th:only-of-type {\n",
       "        vertical-align: middle;\n",
       "    }\n",
       "\n",
       "    .dataframe tbody tr th {\n",
       "        vertical-align: top;\n",
       "    }\n",
       "\n",
       "    .dataframe thead th {\n",
       "        text-align: right;\n",
       "    }\n",
       "</style>\n",
       "<table border=\"1\" class=\"dataframe\">\n",
       "  <thead>\n",
       "    <tr style=\"text-align: right;\">\n",
       "      <th></th>\n",
       "      <th>000</th>\n",
       "      <th>10</th>\n",
       "      <th>100</th>\n",
       "      <th>11</th>\n",
       "      <th>12</th>\n",
       "      <th>13</th>\n",
       "      <th>14</th>\n",
       "      <th>15</th>\n",
       "      <th>16</th>\n",
       "      <th>17</th>\n",
       "      <th>...</th>\n",
       "      <th>youll</th>\n",
       "      <th>young</th>\n",
       "      <th>younger</th>\n",
       "      <th>your</th>\n",
       "      <th>youre</th>\n",
       "      <th>yourself</th>\n",
       "      <th>youtu</th>\n",
       "      <th>youtube</th>\n",
       "      <th>youve</th>\n",
       "      <th>zero</th>\n",
       "    </tr>\n",
       "  </thead>\n",
       "  <tbody>\n",
       "    <tr>\n",
       "      <th>0</th>\n",
       "      <td>0.0</td>\n",
       "      <td>0.0</td>\n",
       "      <td>0.0</td>\n",
       "      <td>0.0</td>\n",
       "      <td>0.0</td>\n",
       "      <td>0.0</td>\n",
       "      <td>0.0</td>\n",
       "      <td>0.0</td>\n",
       "      <td>0.0</td>\n",
       "      <td>0.0</td>\n",
       "      <td>...</td>\n",
       "      <td>0.0</td>\n",
       "      <td>0.0</td>\n",
       "      <td>0.0</td>\n",
       "      <td>0.0</td>\n",
       "      <td>0.0</td>\n",
       "      <td>0.0</td>\n",
       "      <td>0.0</td>\n",
       "      <td>0.0</td>\n",
       "      <td>0.0</td>\n",
       "      <td>0.0</td>\n",
       "    </tr>\n",
       "    <tr>\n",
       "      <th>1</th>\n",
       "      <td>0.0</td>\n",
       "      <td>0.0</td>\n",
       "      <td>0.0</td>\n",
       "      <td>0.0</td>\n",
       "      <td>0.0</td>\n",
       "      <td>0.0</td>\n",
       "      <td>0.0</td>\n",
       "      <td>0.0</td>\n",
       "      <td>0.0</td>\n",
       "      <td>0.0</td>\n",
       "      <td>...</td>\n",
       "      <td>0.0</td>\n",
       "      <td>0.0</td>\n",
       "      <td>0.0</td>\n",
       "      <td>0.0</td>\n",
       "      <td>0.0</td>\n",
       "      <td>0.0</td>\n",
       "      <td>0.0</td>\n",
       "      <td>0.0</td>\n",
       "      <td>0.0</td>\n",
       "      <td>0.0</td>\n",
       "    </tr>\n",
       "    <tr>\n",
       "      <th>2</th>\n",
       "      <td>0.0</td>\n",
       "      <td>0.0</td>\n",
       "      <td>0.0</td>\n",
       "      <td>0.0</td>\n",
       "      <td>0.0</td>\n",
       "      <td>0.0</td>\n",
       "      <td>0.0</td>\n",
       "      <td>0.0</td>\n",
       "      <td>0.0</td>\n",
       "      <td>0.0</td>\n",
       "      <td>...</td>\n",
       "      <td>0.0</td>\n",
       "      <td>0.0</td>\n",
       "      <td>0.0</td>\n",
       "      <td>0.0</td>\n",
       "      <td>0.0</td>\n",
       "      <td>0.0</td>\n",
       "      <td>0.0</td>\n",
       "      <td>0.0</td>\n",
       "      <td>0.0</td>\n",
       "      <td>0.0</td>\n",
       "    </tr>\n",
       "    <tr>\n",
       "      <th>3</th>\n",
       "      <td>0.0</td>\n",
       "      <td>0.0</td>\n",
       "      <td>0.0</td>\n",
       "      <td>0.0</td>\n",
       "      <td>0.0</td>\n",
       "      <td>0.0</td>\n",
       "      <td>0.0</td>\n",
       "      <td>0.0</td>\n",
       "      <td>0.0</td>\n",
       "      <td>0.0</td>\n",
       "      <td>...</td>\n",
       "      <td>0.0</td>\n",
       "      <td>0.0</td>\n",
       "      <td>0.0</td>\n",
       "      <td>0.0</td>\n",
       "      <td>0.0</td>\n",
       "      <td>0.0</td>\n",
       "      <td>0.0</td>\n",
       "      <td>0.0</td>\n",
       "      <td>0.0</td>\n",
       "      <td>0.0</td>\n",
       "    </tr>\n",
       "    <tr>\n",
       "      <th>4</th>\n",
       "      <td>0.0</td>\n",
       "      <td>0.0</td>\n",
       "      <td>0.0</td>\n",
       "      <td>0.0</td>\n",
       "      <td>0.0</td>\n",
       "      <td>0.0</td>\n",
       "      <td>0.0</td>\n",
       "      <td>0.0</td>\n",
       "      <td>0.0</td>\n",
       "      <td>0.0</td>\n",
       "      <td>...</td>\n",
       "      <td>0.0</td>\n",
       "      <td>0.0</td>\n",
       "      <td>0.0</td>\n",
       "      <td>0.0</td>\n",
       "      <td>0.0</td>\n",
       "      <td>0.0</td>\n",
       "      <td>0.0</td>\n",
       "      <td>0.0</td>\n",
       "      <td>0.0</td>\n",
       "      <td>0.0</td>\n",
       "    </tr>\n",
       "  </tbody>\n",
       "</table>\n",
       "<p>5 rows × 1858 columns</p>\n",
       "</div>"
      ],
      "text/plain": [
       "   000   10  100   11   12   13   14   15   16   17  ...  youll  young  \\\n",
       "0  0.0  0.0  0.0  0.0  0.0  0.0  0.0  0.0  0.0  0.0  ...    0.0    0.0   \n",
       "1  0.0  0.0  0.0  0.0  0.0  0.0  0.0  0.0  0.0  0.0  ...    0.0    0.0   \n",
       "2  0.0  0.0  0.0  0.0  0.0  0.0  0.0  0.0  0.0  0.0  ...    0.0    0.0   \n",
       "3  0.0  0.0  0.0  0.0  0.0  0.0  0.0  0.0  0.0  0.0  ...    0.0    0.0   \n",
       "4  0.0  0.0  0.0  0.0  0.0  0.0  0.0  0.0  0.0  0.0  ...    0.0    0.0   \n",
       "\n",
       "   younger  your  youre  yourself  youtu  youtube  youve  zero  \n",
       "0      0.0   0.0    0.0       0.0    0.0      0.0    0.0   0.0  \n",
       "1      0.0   0.0    0.0       0.0    0.0      0.0    0.0   0.0  \n",
       "2      0.0   0.0    0.0       0.0    0.0      0.0    0.0   0.0  \n",
       "3      0.0   0.0    0.0       0.0    0.0      0.0    0.0   0.0  \n",
       "4      0.0   0.0    0.0       0.0    0.0      0.0    0.0   0.0  \n",
       "\n",
       "[5 rows x 1858 columns]"
      ]
     },
     "execution_count": 36,
     "metadata": {},
     "output_type": "execute_result"
    }
   ],
   "source": [
    "val_df = pd.DataFrame(vect.transform(X_test).todense(), columns=vect.get_feature_names())\n",
    "val_df.head()"
   ]
  },
  {
   "cell_type": "markdown",
   "metadata": {},
   "source": [
    "# Constructing First Neuronetwork Model"
   ]
  },
  {
   "cell_type": "code",
   "execution_count": 37,
   "metadata": {},
   "outputs": [],
   "source": [
    "\n",
    "model = Sequential()\n",
    "model.add(Dense(128, activation='relu', input_dim=train_df.shape[1]))\n",
    "model.add(Dense(128, activation='relu'))\n",
    "model.add(Dense(64, activation='relu'))\n",
    "model.add(Dense(df.subreddit.nunique(), activation='softmax'))\n",
    "\n",
    "model.compile(optimizer='adam', loss='sparse_categorical_crossentropy', metrics=['accuracy'])"
   ]
  },
  {
   "cell_type": "code",
   "execution_count": 38,
   "metadata": {},
   "outputs": [
    {
     "name": "stdout",
     "output_type": "stream",
     "text": [
      "Epoch 1/30\n",
      "624/624 [==============================] - 2s 3ms/step - loss: 3.5180 - accuracy: 0.1856 - val_loss: 2.6043 - val_accuracy: 0.3434\n",
      "Epoch 2/30\n",
      "624/624 [==============================] - 1s 2ms/step - loss: 2.2706 - accuracy: 0.4069 - val_loss: 2.3652 - val_accuracy: 0.3870\n",
      "Epoch 3/30\n",
      "624/624 [==============================] - 1s 2ms/step - loss: 1.9524 - accuracy: 0.4731 - val_loss: 2.3264 - val_accuracy: 0.4058\n",
      "Epoch 4/30\n",
      "624/624 [==============================] - 1s 2ms/step - loss: 1.7470 - accuracy: 0.5179 - val_loss: 2.3725 - val_accuracy: 0.4102\n",
      "Epoch 5/30\n",
      "624/624 [==============================] - 1s 2ms/step - loss: 1.5747 - accuracy: 0.5617 - val_loss: 2.3873 - val_accuracy: 0.4171\n",
      "Epoch 6/30\n",
      "624/624 [==============================] - 1s 2ms/step - loss: 1.4095 - accuracy: 0.6029 - val_loss: 2.4863 - val_accuracy: 0.4174\n",
      "Epoch 7/30\n",
      "624/624 [==============================] - 1s 2ms/step - loss: 1.2573 - accuracy: 0.6467 - val_loss: 2.5843 - val_accuracy: 0.4126\n",
      "Epoch 8/30\n",
      "624/624 [==============================] - 1s 2ms/step - loss: 1.1105 - accuracy: 0.6881 - val_loss: 2.7644 - val_accuracy: 0.4094\n",
      "Epoch 9/30\n",
      "624/624 [==============================] - 2s 3ms/step - loss: 0.9706 - accuracy: 0.7254 - val_loss: 2.8980 - val_accuracy: 0.4108\n",
      "Epoch 10/30\n",
      "624/624 [==============================] - 2s 3ms/step - loss: 0.8380 - accuracy: 0.7658 - val_loss: 3.1424 - val_accuracy: 0.4091\n",
      "Epoch 11/30\n",
      "624/624 [==============================] - 2s 3ms/step - loss: 0.7161 - accuracy: 0.8025 - val_loss: 3.3654 - val_accuracy: 0.4017\n",
      "Epoch 12/30\n",
      "624/624 [==============================] - 2s 3ms/step - loss: 0.6085 - accuracy: 0.8329 - val_loss: 3.6654 - val_accuracy: 0.3932\n",
      "Epoch 13/30\n",
      "624/624 [==============================] - 2s 3ms/step - loss: 0.5180 - accuracy: 0.8608 - val_loss: 3.9630 - val_accuracy: 0.3868\n",
      "Epoch 14/30\n",
      "624/624 [==============================] - 2s 3ms/step - loss: 0.4416 - accuracy: 0.8861 - val_loss: 4.2077 - val_accuracy: 0.3875\n",
      "Epoch 15/30\n",
      "624/624 [==============================] - 2s 3ms/step - loss: 0.3818 - accuracy: 0.9031 - val_loss: 4.5340 - val_accuracy: 0.3893\n",
      "Epoch 16/30\n",
      "624/624 [==============================] - 2s 3ms/step - loss: 0.3421 - accuracy: 0.9144 - val_loss: 4.8281 - val_accuracy: 0.3900\n",
      "Epoch 17/30\n",
      "624/624 [==============================] - 2s 3ms/step - loss: 0.3089 - accuracy: 0.9214 - val_loss: 5.0762 - val_accuracy: 0.3871\n",
      "Epoch 18/30\n",
      "624/624 [==============================] - 2s 3ms/step - loss: 0.2841 - accuracy: 0.9275 - val_loss: 5.3100 - val_accuracy: 0.3887\n",
      "Epoch 19/30\n",
      "624/624 [==============================] - 2s 3ms/step - loss: 0.2729 - accuracy: 0.9305 - val_loss: 5.4707 - val_accuracy: 0.3879\n",
      "Epoch 20/30\n",
      "624/624 [==============================] - 2s 3ms/step - loss: 0.2537 - accuracy: 0.9346 - val_loss: 5.6869 - val_accuracy: 0.3838\n",
      "Epoch 21/30\n",
      "624/624 [==============================] - 3s 4ms/step - loss: 0.2510 - accuracy: 0.9352 - val_loss: 5.8423 - val_accuracy: 0.3866\n",
      "Epoch 22/30\n",
      "624/624 [==============================] - 2s 4ms/step - loss: 0.2370 - accuracy: 0.9379 - val_loss: 6.0263 - val_accuracy: 0.3833\n",
      "Epoch 23/30\n",
      "624/624 [==============================] - 2s 4ms/step - loss: 0.2312 - accuracy: 0.9394 - val_loss: 5.9638 - val_accuracy: 0.3871\n",
      "Epoch 24/30\n",
      "624/624 [==============================] - 2s 4ms/step - loss: 0.2186 - accuracy: 0.9438 - val_loss: 6.1997 - val_accuracy: 0.3843\n",
      "Epoch 25/30\n",
      "624/624 [==============================] - 2s 3ms/step - loss: 0.2072 - accuracy: 0.9474 - val_loss: 6.3721 - val_accuracy: 0.3862\n",
      "Epoch 26/30\n",
      "624/624 [==============================] - 2s 3ms/step - loss: 0.2149 - accuracy: 0.9444 - val_loss: 6.4444 - val_accuracy: 0.3904\n",
      "Epoch 27/30\n",
      "624/624 [==============================] - 2s 4ms/step - loss: 0.2105 - accuracy: 0.9439 - val_loss: 6.6105 - val_accuracy: 0.3853\n",
      "Epoch 28/30\n",
      "624/624 [==============================] - 2s 3ms/step - loss: 0.2019 - accuracy: 0.9461 - val_loss: 6.6927 - val_accuracy: 0.3846\n",
      "Epoch 29/30\n",
      "624/624 [==============================] - 2s 3ms/step - loss: 0.2003 - accuracy: 0.9471 - val_loss: 6.7014 - val_accuracy: 0.3887\n",
      "Epoch 30/30\n",
      "624/624 [==============================] - 2s 3ms/step - loss: 0.1954 - accuracy: 0.9481 - val_loss: 6.8256 - val_accuracy: 0.3810\n"
     ]
    },
    {
     "data": {
      "text/plain": [
       "<tensorflow.python.keras.callbacks.History at 0x14dc34978>"
      ]
     },
     "execution_count": 38,
     "metadata": {},
     "output_type": "execute_result"
    }
   ],
   "source": [
    "model.fit(train_df.to_numpy(), y_train, batch_size=32, epochs=30, validation_data=(val_df.to_numpy(), y_test))"
   ]
  },
  {
   "cell_type": "code",
   "execution_count": 39,
   "metadata": {},
   "outputs": [],
   "source": [
    "# Recall, we used label encoder to convert subreddits into numerical representations"
   ]
  },
  {
   "cell_type": "code",
   "execution_count": 49,
   "metadata": {},
   "outputs": [
    {
     "data": {
      "text/plain": [
       "array([51, 51, 51, ..., 16, 16, 16])"
      ]
     },
     "execution_count": 49,
     "metadata": {},
     "output_type": "execute_result"
    }
   ],
   "source": [
    "le.transform(df.subreddit)"
   ]
  },
  {
   "cell_type": "markdown",
   "metadata": {},
   "source": [
    "# Testing Model"
   ]
  },
  {
   "cell_type": "code",
   "execution_count": 50,
   "metadata": {},
   "outputs": [],
   "source": [
    "input = vect.transform(['bleach is awesome']).todense()"
   ]
  },
  {
   "cell_type": "code",
   "execution_count": 51,
   "metadata": {},
   "outputs": [
    {
     "data": {
      "text/plain": [
       "(1, 1858)"
      ]
     },
     "execution_count": 51,
     "metadata": {},
     "output_type": "execute_result"
    }
   ],
   "source": [
    "input.shape"
   ]
  },
  {
   "cell_type": "code",
   "execution_count": 43,
   "metadata": {},
   "outputs": [
    {
     "data": {
      "text/plain": [
       "(1, 100)"
      ]
     },
     "execution_count": 43,
     "metadata": {},
     "output_type": "execute_result"
    }
   ],
   "source": [
    "model.predict(input).shape"
   ]
  },
  {
   "cell_type": "code",
   "execution_count": 44,
   "metadata": {},
   "outputs": [
    {
     "name": "stdout",
     "output_type": "stream",
     "text": [
      "WARNING:tensorflow:From <ipython-input-44-24c113a2027e>:1: Sequential.predict_classes (from tensorflow.python.keras.engine.sequential) is deprecated and will be removed after 2021-01-01.\n",
      "Instructions for updating:\n",
      "Please use instead:* `np.argmax(model.predict(x), axis=-1)`,   if your model does multi-class classification   (e.g. if it uses a `softmax` last-layer activation).* `(model.predict(x) > 0.5).astype(\"int32\")`,   if your model does binary classification   (e.g. if it uses a `sigmoid` last-layer activation).\n"
     ]
    }
   ],
   "source": [
    "predicted_label = model.predict_classes(input)"
   ]
  },
  {
   "cell_type": "code",
   "execution_count": 45,
   "metadata": {},
   "outputs": [
    {
     "data": {
      "text/plain": [
       "array(['araragi'], dtype=object)"
      ]
     },
     "execution_count": 45,
     "metadata": {},
     "output_type": "execute_result"
    }
   ],
   "source": [
    "le.inverse_transform(predicted_label)"
   ]
  },
  {
   "cell_type": "code",
   "execution_count": 46,
   "metadata": {},
   "outputs": [],
   "source": [
    "def neuro_predictor(text,labels):\n",
    "    \"\"\"returns prediction from a neuronetwork model\"\"\"\n",
    "    # Text paramaters should be specified as string , ex 'This is a sentence that can be passed as text'\n",
    "    # labels should be passed as a series; This represents the training vector used for the model\n",
    "    # Ex of labels is df.subreddits\n",
    "    le = LabelEncoder()\n",
    "    le.fit(labels.unique()) \n",
    "    text = [text]\n",
    "    #Convert Text to vectorize form\n",
    "    input = vect.transform(text).todense()\n",
    "    #predicted label in encoded formate\n",
    "    predicted_label = model.predict_classes(input)\n",
    "    #predicted subreddit in english text\n",
    "    Subreddit = le.inverse_transform(predicted_label)\n",
    "    return Subreddit\n",
    "    \n",
    "    "
   ]
  },
  {
   "cell_type": "code",
   "execution_count": 54,
   "metadata": {},
   "outputs": [
    {
     "data": {
      "text/plain": [
       "array(['ask'], dtype=object)"
      ]
     },
     "execution_count": 54,
     "metadata": {},
     "output_type": "execute_result"
    }
   ],
   "source": [
    "neuro_predictor(\"\"\"In episode 119 after Ikkaku used Bankai on Edrad it talked about\n",
    "Ikkaku's backstory and he trained Renji when he didn't know how to fight. \n",
    "I looked for it in the manga but they skipped that scene.\n",
    "I really want to know because they performed a mountain level feat\"\"\",df.subreddit)"
   ]
  },
  {
   "cell_type": "markdown",
   "metadata": {},
   "source": [
    "# NeuroNetwork #2"
   ]
  },
  {
   "cell_type": "code",
   "execution_count": 48,
   "metadata": {},
   "outputs": [
    {
     "name": "stdout",
     "output_type": "stream",
     "text": [
      "Epoch 1/30\n",
      "624/624 [==============================] - 2s 4ms/step - loss: 4.6777 - accuracy: 0.0094 - val_loss: 4.6061 - val_accuracy: 0.0076\n",
      "Epoch 2/30\n",
      "624/624 [==============================] - 2s 2ms/step - loss: 4.6047 - accuracy: 0.0102 - val_loss: 4.6070 - val_accuracy: 0.0076\n",
      "Epoch 3/30\n",
      "624/624 [==============================] - 2s 3ms/step - loss: 4.6043 - accuracy: 0.0113 - val_loss: 4.6074 - val_accuracy: 0.0076\n",
      "Epoch 4/30\n",
      "624/624 [==============================] - 2s 3ms/step - loss: 4.6041 - accuracy: 0.0104 - val_loss: 4.6083 - val_accuracy: 0.0076\n",
      "Epoch 5/30\n",
      "624/624 [==============================] - 2s 3ms/step - loss: 4.6040 - accuracy: 0.0110 - val_loss: 4.6084 - val_accuracy: 0.0076\n",
      "Epoch 6/30\n",
      "624/624 [==============================] - 2s 3ms/step - loss: 4.6040 - accuracy: 0.0113 - val_loss: 4.6085 - val_accuracy: 0.0076\n",
      "Epoch 7/30\n",
      "624/624 [==============================] - 2s 3ms/step - loss: 4.6040 - accuracy: 0.0110 - val_loss: 4.6086 - val_accuracy: 0.0076\n",
      "Epoch 8/30\n",
      "624/624 [==============================] - 2s 2ms/step - loss: 4.6039 - accuracy: 0.0113 - val_loss: 4.6087 - val_accuracy: 0.0076\n",
      "Epoch 9/30\n",
      "624/624 [==============================] - 2s 2ms/step - loss: 4.6039 - accuracy: 0.0113 - val_loss: 4.6088 - val_accuracy: 0.0076\n",
      "Epoch 10/30\n",
      "624/624 [==============================] - 2s 2ms/step - loss: 4.6039 - accuracy: 0.0109 - val_loss: 4.6092 - val_accuracy: 0.0076\n",
      "Epoch 11/30\n",
      "624/624 [==============================] - 2s 3ms/step - loss: 4.6039 - accuracy: 0.0113 - val_loss: 4.6088 - val_accuracy: 0.0076\n",
      "Epoch 12/30\n",
      "624/624 [==============================] - 2s 3ms/step - loss: 4.6039 - accuracy: 0.0100 - val_loss: 4.6090 - val_accuracy: 0.0076\n",
      "Epoch 13/30\n",
      "624/624 [==============================] - 2s 3ms/step - loss: 4.6039 - accuracy: 0.0110 - val_loss: 4.6090 - val_accuracy: 0.0076\n",
      "Epoch 14/30\n",
      "624/624 [==============================] - 2s 3ms/step - loss: 4.6039 - accuracy: 0.0113 - val_loss: 4.6090 - val_accuracy: 0.0076\n",
      "Epoch 15/30\n",
      "624/624 [==============================] - 2s 3ms/step - loss: 4.6039 - accuracy: 0.0111 - val_loss: 4.6091 - val_accuracy: 0.0076\n",
      "Epoch 16/30\n",
      "624/624 [==============================] - 2s 3ms/step - loss: 4.6039 - accuracy: 0.0106 - val_loss: 4.6091 - val_accuracy: 0.0076\n",
      "Epoch 17/30\n",
      "624/624 [==============================] - 1s 2ms/step - loss: 4.6038 - accuracy: 0.0108 - val_loss: 4.6092 - val_accuracy: 0.0076\n",
      "Epoch 18/30\n",
      "624/624 [==============================] - 2s 2ms/step - loss: 4.6038 - accuracy: 0.0113 - val_loss: 4.6092 - val_accuracy: 0.0076\n",
      "Epoch 19/30\n",
      "624/624 [==============================] - 2s 2ms/step - loss: 4.6038 - accuracy: 0.0113 - val_loss: 4.6092 - val_accuracy: 0.0076\n",
      "Epoch 20/30\n",
      "624/624 [==============================] - 2s 3ms/step - loss: 4.6038 - accuracy: 0.0113 - val_loss: 4.6092 - val_accuracy: 0.0076\n",
      "Epoch 21/30\n",
      "624/624 [==============================] - 2s 3ms/step - loss: 4.6039 - accuracy: 0.0107 - val_loss: 4.6092 - val_accuracy: 0.0076\n",
      "Epoch 22/30\n",
      "624/624 [==============================] - 2s 3ms/step - loss: 4.6039 - accuracy: 0.0102 - val_loss: 4.6093 - val_accuracy: 0.0076\n",
      "Epoch 23/30\n",
      "624/624 [==============================] - 2s 3ms/step - loss: 4.6038 - accuracy: 0.0113 - val_loss: 4.6092 - val_accuracy: 0.0076\n",
      "Epoch 24/30\n",
      "624/624 [==============================] - 2s 3ms/step - loss: 4.6038 - accuracy: 0.0103 - val_loss: 4.6092 - val_accuracy: 0.0076\n",
      "Epoch 25/30\n",
      "624/624 [==============================] - 2s 3ms/step - loss: 4.6038 - accuracy: 0.0113 - val_loss: 4.6093 - val_accuracy: 0.0076\n",
      "Epoch 26/30\n",
      "624/624 [==============================] - 2s 3ms/step - loss: 4.6039 - accuracy: 0.0108 - val_loss: 4.6092 - val_accuracy: 0.0076\n",
      "Epoch 27/30\n",
      "624/624 [==============================] - 2s 3ms/step - loss: 4.6039 - accuracy: 0.0113 - val_loss: 4.6092 - val_accuracy: 0.0076\n",
      "Epoch 28/30\n",
      "624/624 [==============================] - 2s 3ms/step - loss: 4.6038 - accuracy: 0.0113 - val_loss: 4.6092 - val_accuracy: 0.0076\n",
      "Epoch 29/30\n",
      "624/624 [==============================] - 2s 3ms/step - loss: 4.6039 - accuracy: 0.0110 - val_loss: 4.6092 - val_accuracy: 0.0076\n",
      "Epoch 30/30\n",
      "624/624 [==============================] - 2s 4ms/step - loss: 4.6038 - accuracy: 0.0113 - val_loss: 4.6093 - val_accuracy: 0.0076\n"
     ]
    },
    {
     "data": {
      "text/plain": [
       "<tensorflow.python.keras.callbacks.History at 0x14daff668>"
      ]
     },
     "execution_count": 48,
     "metadata": {},
     "output_type": "execute_result"
    }
   ],
   "source": [
    "model = Sequential()\n",
    "model.add(Dense(128, activation='relu', kernel_regularizer=l2(0.003), input_dim=train_df.shape[1]))\n",
    "model.add(Dropout(.2))\n",
    "model.add(Dense(128, activation='relu', kernel_regularizer=l2(0.003)))\n",
    "model.add(Dropout(.2))\n",
    "model.add(Dense(64, activation='relu', kernel_regularizer=l2(0.003)))\n",
    "model.add(Dropout(.2))\n",
    "model.add(Dense(df.subreddit.nunique(), activation='softmax'))\n",
    "\n",
    "model.compile(optimizer='adam', loss='sparse_categorical_crossentropy', metrics=['accuracy'])\n",
    "\n",
    "model.fit(train_df.to_numpy(), y_train, batch_size=32, epochs=30, validation_data=(val_df.to_numpy(), y_test))"
   ]
  }
 ],
 "metadata": {
  "kernelspec": {
   "display_name": "Python 3",
   "language": "python",
   "name": "python3"
  },
  "language_info": {
   "codemirror_mode": {
    "name": "ipython",
    "version": 3
   },
   "file_extension": ".py",
   "mimetype": "text/x-python",
   "name": "python",
   "nbconvert_exporter": "python",
   "pygments_lexer": "ipython3",
   "version": "3.7.3"
  }
 },
 "nbformat": 4,
 "nbformat_minor": 4
}
